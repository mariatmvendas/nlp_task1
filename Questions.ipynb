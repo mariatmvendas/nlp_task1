{
 "cells": [
  {
   "cell_type": "markdown",
   "id": "65506f50",
   "metadata": {},
   "source": [
    "## Questions"
   ]
  },
  {
   "cell_type": "markdown",
   "id": "c882fb8b",
   "metadata": {},
   "source": [
    "- **What are the pros and cons with using dictionary, machine learning and pretrained LLMs for the task?**\n",
    "\n",
    "Using a dictionary is easy to implement and fits in the 200MB container, however it works with a limited vocabulary to each new words need to be added manually.\n",
    "\n",
    "A machine learning model is a more automatic approach that could capture some nuances, however it would likely require labeled data and would increase the container size.\n",
    "\n",
    "A pre-trained LLM is the approach with higher accuracy and that would be able to handle complex sentences and sentiments although it would likely not fit in a container this size."
   ]
  },
  {
   "cell_type": "markdown",
   "id": "356ceb8a",
   "metadata": {},
   "source": [
    "- **... and how should the two languages be handled?**\n",
    "\n",
    "One way to handle this problem is by adding words from both languages to the same dictionary, making no distinction between them. Another one, would be to have different dictionaries for different languages. To use one, the language can be an input from the user or a language detector can be used.\n",
    "\n",
    "The **affin** tool asks for the language of the sentence but by implementing it with the **langdetect** library, the language detection is automatic."
   ]
  },
  {
   "cell_type": "markdown",
   "id": "50d644c6",
   "metadata": {},
   "source": [
    "- **What is possible to do within 200 MB container?**\n",
    "\n",
    "In this case, I was able to implement a simple dictionary-based sentiment analysis with a dictionary with more than 3300 words and to perform language detection with a FastAPI service."
   ]
  },
  {
   "cell_type": "markdown",
   "id": "45fdba89",
   "metadata": {},
   "source": [
    "- **Is it possible to come up or find more text that have been annotated for sentiment and that resembles course evaluations?**\n",
    "\n",
    "The easist way to find it would probably be to access public surveys and reviews of any school like university, high school or even a language school. Another way is to use reviews from products, hotels, museums that might resemble the same as a course evaluation. Some review work would have to be made to ensure this information could be translated into course evaluation but it could increase the size of the vocabulary a lot."
   ]
  }
 ],
 "metadata": {
  "language_info": {
   "name": "python"
  }
 },
 "nbformat": 4,
 "nbformat_minor": 5
}
